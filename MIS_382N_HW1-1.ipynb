{
 "cells": [
  {
   "cell_type": "markdown",
   "metadata": {
    "id": "evHVxwk2JA-3"
   },
   "source": [
    "# <p style=\"text-align: center;\">MIS 382N: Advanced Machine Learning</p>\n",
    "# <p style=\"text-align: center;\">Homework 1</p>\n",
    "## <p style=\"text-align: center;\">Total points: 55</p>\n",
    "## <p style=\"text-align: center;\">Due: Wednesday, Sep 8 submitted via Canvas by 11:59 pm</p>\n",
    "\n",
    "Your homework should be written in a **Jupyter notebook**. Please make sure your code runs and the graphics (and anything else) are displayed in your notebook before submitting. (%matplotlib inline)\n",
    "\n",
    "**Note: Notebooks MUST have the images embedded in them. There will be no regrades if attached images do not render in the notebook. Please re download from canvas after submission and make sure all attached images render without errors. (Hint: Image module from IPython.display)**"
   ]
  },
  {
   "cell_type": "markdown",
   "metadata": {
    "id": "TWWU_gOSLEEv"
   },
   "source": [
    "# Question 1: MLOps (10 pts)\n",
    "Read this [article](https://towardsdatascience.com/what-is-mlops-everything-you-must-know-to-get-started-523f2d0b8bd8) \"What is MLOps — Everything You Must Know to Get Started\", which gives a quick walkthrough of the machine learning development lifecycle and explains how MLOps come into play, or watch this [video](https://www.youtube.com/watch?v=06-AZXmwHjo) which you may find interesting.\n",
    "\n",
    "1. (**4 pts**) Use your own words to describe what MLOps is, and what challenges MLOps address. Limit your answer to one paragraph.\n",
    "\n",
    "2. (**6 pts**) Describe what the main phases in MLOps are. Your answer should be 2-3 paragraphs.\n",
    "\n",
    "\n",
    "## Answer:\n",
    "\n",
    "1. MLOps can be thought of as a discipline that is trying to combine and unify Machine Learning code development and Machine Learning deployment. In traditional software development process, the software engineers handled the software development part and DevOps handles that deployment part. The traditional software development porcess doesn't work in case of ML models, because ML models are built based on some assumption and data. Therefore, these ML models can become obselete with time as the data is changes and assumptions are found to be wrong. Thus we need to keep constanly updating ML models for data change and model changes. Because of the need of constant change, the traditional software develeopment process doesn't work. With the presence of MLOps, it is much more easier and structured to update these models without breaking the system. This helps in delivering high performance ML models \n",
    "<br>\n",
    "<br>\n",
    "2. MLOps phases can be divided into 4 broad categories - Scope project, Collect data, Train model, and Deploy model. The busienss people (usually product managers or Subject Matter Experts) define the business objectives and KPIs(Key Performing Indicator) for the ML project. Data Engineers then collect the relevant data for the business problem. The quality and quantity of data collected is very critical for the whole pipeline. If the data quantity is low, the data quality (or labelling) should be very high for high perfromance. If data quantity is high, moderate data quality might be OK.\n",
    "<br>\n",
    "Based business objective and data collected, data is preprared for ML models. The preprocessing can include removing outliers, performing feature engineering to create new features. After this, relevant ML model (with specific hyperparameters) is chosen by the Data Scientist. It is very important that model and results achieved by data scientist should be reproducable and scalable i.e. similar output performance should be possible when model is deployed on cloud.\n",
    "<br>\n",
    "The ML model is deloyed onto relevant system based on requirement. After depolyment, the most important part is monitoring the model - is the model performing and is it meeting the business objective? Based on answer to this question, the model and data to the model is updated. "
   ]
  },
  {
   "cell_type": "markdown",
   "metadata": {
    "id": "wusA9L1LmUMH"
   },
   "source": [
    "# Question 2: Applications of Machine Learning (5 pts)\n",
    "Read this [article](https://builtin.com/data-science/data-science-applications-examples) \"17 Data Science Applications & Examples\" and pick one of the data science systems used by various organizations according to this blog. \n",
    "\n",
    "For this system you have chosen, answer the following questions. Please limit your answer to one paragraph:\n",
    "\n",
    "1. What kind of machine learning problem is involved (e.g. classification, regression, clustering, outlier detection,...) in this system?\n",
    "2. Speculate on what kind of data may be needed and how the results can be useful to the organization.\n",
    "3. What do you think are the ethical implications of using machine learning in a domain like this?\n",
    "\n",
    "## Answer:\n",
    "\n",
    "Data science system - LYNA, for detection of breast cancer.<br>\n",
    "This system involves solving a **classification** problem. The system has to classify if a patient has breast cancer. This system probably uses various kinds of input data - 1. tabular data that conatins information such as age, gender, income 2. text data which contains all the medical history of the patient 3. image data which contains pictures related to medical tests performed to check for the breast cancer. This kind of system can help medical organization in identifying high risk patients for breast cancer. The organization will be able to treat the cancer at an early stage thus helping the patient and the organization. The data science system has some risks too - 1. What is the risk of wrongly classifying non-cancer patient as having cancer? Patient might unwilling forced to pay for medical tests 2. What is the risk of wrongly classifying cancer patient as NOT having cancer? If the organization overly relies on this system and misses some patient, then, in worst case scenario, it can result in deaths 3. Is it ethical to mine the data without getting proper consent from all the patients?   "
   ]
  },
  {
   "cell_type": "markdown",
   "metadata": {
    "id": "2w8za9lLmVO7"
   },
   "source": [
    "# Question 3: Simpson's Paradox (10 pts)\n",
    "A data scientist should be careful about drawing unwarranted conclusions about any data that is presented. One of the 'gotchas' that can happen even in apparently very simple tabular summaries, is called Simpson's paradox.\n",
    "\n",
    "Read this [article](https://www.covid-datascience.com/post/israeli-data-how-can-efficacy-vs-severe-disease-be-strong-when-60-of-hospitalized-are-vaccinated), which explains why the computed efficacy of the Pfizer vaccine is misleadingly low (67.5%) when you lump all people together, but once you stratify people by age (which is the right thing to do), you get much higher efficacy numbers.\n",
    "\n",
    "1.(**5 pts**) Explain in your own words what Simpson's paradox is, and how this 'paradox' can happen in real data.\n",
    "\n",
    "2.(**5 pts**) Find and mention another example of Simpson's paradox (but not any of the 3 examples given in the Wikipedia entry for 'Simpson's paradox'), state why the paradox appeared in your chosen example. Also give a reference (URL) to your source for the chosen example.\n",
    "\n",
    "## Answer:\n",
    "\n",
    "1. Simpson' paradox - A pattern or trend in data that reverses or disappears when all the data is combined. If let's say, we are trying to understand relationship between 2 variables, then a 3rd variable, which is confounding variable, can cause the relationship between the varaibles be distorted. For e.g. - If let's say two variables have negative corelation, then a confounding varible can cause relation to reverse and can lead us to believe that the variables have positive correlation. By 'controlling' for this confounding variable, we can remove effect of this confounding variable. For e.g. - In case of Pfizer vaccine, the confounding variable was age. Combinig the data indicated low efficacy but stratifying for age, showed drastically high efficacy. Stratifying by age 'controlled' for 2 things - 1. Disparity in vaccination rate by age 2. Disparity in rate of severe cases (rate of severe cases was higher in 50+ compared to less than 50). By 'controlling' for age or by spiliting the data by age, we were able to understand the 'true' relationship between vaccination and severe case rate. These confounding variables can be present in any physical system. It's the reponsibility of the statistician/ data scientist to figure this \"relation corruption\".  \n",
    "<br><br>\n",
    "2. US median wage decline - [link](https://blog.revolutionanalytics.com/2013/07/a-great-example-of-simpsons-paradox.html)\n",
    "<br>Total: +0.9%\n",
    "<br>High School Dropouts: -7.9%\n",
    "<br>High School Graduates, No College: -4.7%\n",
    "<br>Some College: -7.6%\n",
    "<br>Bachelor’s or Higher: -1.2%\n",
    "<br>Overall the median wage in US has increased by 1%(adjusting for inflation). The data is broken down on the basis of eductaion level - high school droputs, high school graduate, some college education, and Bachelor and other high degree. It was found that median wage for each group has dropped. Thus creating a pradox - how can median increase overall but drop for each subgroup? Explanation - By looking at proportions of college graduates over time and their income, we can figure out 2 things - 1. The proportion of college graduates has increased 2. The decrease in wage of college graduates is much less than compared to high school dropouts. This change increase in proportion of group which has much lower decrease rate led to an overall impact in which the median statistic incerased."
   ]
  },
  {
   "cell_type": "markdown",
   "metadata": {
    "id": "gth0D8jiMBSe"
   },
   "source": [
    "# Question 4: Ridge and Lasso Regression (30 pts)\n",
    "\n",
    "Download the dataset **Admission.csv** from Canvas and use the following codes to import the Admission dataset in Python. \n",
    "\n",
    "There are 7 features in the dataset:\n",
    "\n",
    "1. GRE score\n",
    "2. TOEFL score\n",
    "3. University Rating\n",
    "4. SOP(Statement of Purpose)\n",
    "5. LOR(Letter of Recommendation)\n",
    "6. CGPA\n",
    "7. Research\n",
    "\n",
    "And the target is **Chance of Admission**."
   ]
  },
  {
   "cell_type": "code",
   "execution_count": null,
   "metadata": {
    "id": "QFazlpLgGpAa"
   },
   "outputs": [],
   "source": [
    "# Only use this code block if you are using Google Colab.\n",
    "# If you are using Jupyter Notebook, please ignore this code block. You can directly upload the file to your Jupyter Notebook file systems.\n",
    "from google.colab import files\n",
    "\n",
    "## It will prompt you to select a local file. Click on “Choose Files” then select and upload the file. \n",
    "## Wait for the file to be 100% uploaded. You should see the name of the file once Colab has uploaded it.\n",
    "uploaded = files.upload()"
   ]
  },
  {
   "cell_type": "code",
   "execution_count": 1,
   "metadata": {
    "id": "xsPaOOehGuU6"
   },
   "outputs": [],
   "source": [
    "# Codes below will work for both Google Colab and Jupyter Notebook.\n",
    "import numpy as np\n",
    "import pandas as pd\n",
    "import random\n",
    "from sklearn import linear_model\n",
    "from sklearn.metrics import mean_absolute_error, mean_squared_error\n",
    "from sklearn.linear_model import LogisticRegression\n",
    "\n",
    "## Load the dataset into pandas DataFrame\n",
    "df = pd.read_csv('Admission.csv', index_col=0)\n",
    "df = df.replace([np.inf, -np.inf], np.nan) # \n",
    "df = df.fillna(0) # Replace all the NaN values with 0"
   ]
  },
  {
   "cell_type": "code",
   "execution_count": 2,
   "metadata": {
    "id": "PmMz72U6Gv-z"
   },
   "outputs": [
    {
     "data": {
      "text/plain": [
       "Index(['GRE_Score', 'TOEFL_Score', 'University_Rating', 'SOP', 'LOR ', 'CGPA',\n",
       "       'Research', 'Chance_of_Admit'],\n",
       "      dtype='object')"
      ]
     },
     "execution_count": 2,
     "metadata": {},
     "output_type": "execute_result"
    }
   ],
   "source": [
    "df.columns # Show you all the columns in this file"
   ]
  },
  {
   "cell_type": "code",
   "execution_count": 3,
   "metadata": {
    "id": "CyZN-yFfGxlt"
   },
   "outputs": [
    {
     "data": {
      "text/html": [
       "<div>\n",
       "<style scoped>\n",
       "    .dataframe tbody tr th:only-of-type {\n",
       "        vertical-align: middle;\n",
       "    }\n",
       "\n",
       "    .dataframe tbody tr th {\n",
       "        vertical-align: top;\n",
       "    }\n",
       "\n",
       "    .dataframe thead th {\n",
       "        text-align: right;\n",
       "    }\n",
       "</style>\n",
       "<table border=\"1\" class=\"dataframe\">\n",
       "  <thead>\n",
       "    <tr style=\"text-align: right;\">\n",
       "      <th></th>\n",
       "      <th>GRE_Score</th>\n",
       "      <th>TOEFL_Score</th>\n",
       "      <th>University_Rating</th>\n",
       "      <th>SOP</th>\n",
       "      <th>LOR</th>\n",
       "      <th>CGPA</th>\n",
       "      <th>Research</th>\n",
       "      <th>Chance_of_Admit</th>\n",
       "    </tr>\n",
       "    <tr>\n",
       "      <th>Serial No.</th>\n",
       "      <th></th>\n",
       "      <th></th>\n",
       "      <th></th>\n",
       "      <th></th>\n",
       "      <th></th>\n",
       "      <th></th>\n",
       "      <th></th>\n",
       "      <th></th>\n",
       "    </tr>\n",
       "  </thead>\n",
       "  <tbody>\n",
       "    <tr>\n",
       "      <th>1</th>\n",
       "      <td>337</td>\n",
       "      <td>118</td>\n",
       "      <td>4</td>\n",
       "      <td>4.5</td>\n",
       "      <td>4.5</td>\n",
       "      <td>9.65</td>\n",
       "      <td>1</td>\n",
       "      <td>0.92</td>\n",
       "    </tr>\n",
       "    <tr>\n",
       "      <th>2</th>\n",
       "      <td>324</td>\n",
       "      <td>107</td>\n",
       "      <td>4</td>\n",
       "      <td>4.0</td>\n",
       "      <td>4.5</td>\n",
       "      <td>8.87</td>\n",
       "      <td>1</td>\n",
       "      <td>0.76</td>\n",
       "    </tr>\n",
       "    <tr>\n",
       "      <th>3</th>\n",
       "      <td>316</td>\n",
       "      <td>104</td>\n",
       "      <td>3</td>\n",
       "      <td>3.0</td>\n",
       "      <td>3.5</td>\n",
       "      <td>8.00</td>\n",
       "      <td>1</td>\n",
       "      <td>0.72</td>\n",
       "    </tr>\n",
       "    <tr>\n",
       "      <th>4</th>\n",
       "      <td>322</td>\n",
       "      <td>110</td>\n",
       "      <td>3</td>\n",
       "      <td>3.5</td>\n",
       "      <td>2.5</td>\n",
       "      <td>8.67</td>\n",
       "      <td>1</td>\n",
       "      <td>0.80</td>\n",
       "    </tr>\n",
       "    <tr>\n",
       "      <th>5</th>\n",
       "      <td>314</td>\n",
       "      <td>103</td>\n",
       "      <td>2</td>\n",
       "      <td>2.0</td>\n",
       "      <td>3.0</td>\n",
       "      <td>8.21</td>\n",
       "      <td>0</td>\n",
       "      <td>0.65</td>\n",
       "    </tr>\n",
       "  </tbody>\n",
       "</table>\n",
       "</div>"
      ],
      "text/plain": [
       "            GRE_Score  TOEFL_Score  University_Rating  SOP  LOR   CGPA  \\\n",
       "Serial No.                                                               \n",
       "1                 337          118                  4  4.5   4.5  9.65   \n",
       "2                 324          107                  4  4.0   4.5  8.87   \n",
       "3                 316          104                  3  3.0   3.5  8.00   \n",
       "4                 322          110                  3  3.5   2.5  8.67   \n",
       "5                 314          103                  2  2.0   3.0  8.21   \n",
       "\n",
       "            Research  Chance_of_Admit  \n",
       "Serial No.                             \n",
       "1                  1             0.92  \n",
       "2                  1             0.76  \n",
       "3                  1             0.72  \n",
       "4                  1             0.80  \n",
       "5                  0             0.65  "
      ]
     },
     "execution_count": 3,
     "metadata": {},
     "output_type": "execute_result"
    }
   ],
   "source": [
    "df.head() # Show you the first 5 rows in this file"
   ]
  },
  {
   "cell_type": "code",
   "execution_count": 4,
   "metadata": {
    "id": "S3TfR0i4G2rO"
   },
   "outputs": [],
   "source": [
    "y = df['Chance_of_Admit'] # The column named Chance_of_Admit is used as the target, and we store it in y\n",
    "X = df.drop(['Chance_of_Admit'], axis=1) # We keep the remaining columns as the features, and store them in x"
   ]
  },
  {
   "cell_type": "markdown",
   "metadata": {
    "id": "pKq1KERxJw9y"
   },
   "source": [
    "1)(**2 pts**) Split the data into a training set(75% of data) and a test set(25% of data), using the [train_test_split](https://scikit-learn.org/stable/modules/generated/sklearn.model_selection.train_test_split.html) function with random_state = 50. Then scale the data (not including target) so that each of the independent variables would have zero mean and unit variance. You can use the [sklearn.preprocessing.scale](https://scikit-learn.org/stable/modules/generated/sklearn.preprocessing.scale.html) function for this. Print the first 5 rows of the training set after scaling.\n",
    "\n",
    "2)(**5 pts**) Use [sklearn.linear_model.Lasso](https://scikit-learn.org/stable/modules/generated/sklearn.linear_model.Lasso.html) and [sklearn.linear_model.Ridge](https://scikit-learn.org/stable/modules/generated/sklearn.linear_model.Ridge.html) classes to do a **5-fold** cross validation using sklearn's KFold. For the sweep of the regularization parameter, we will look at a grid of values ranging from α=10^10 to α=10^−6. In Python, you can consider this range of values as follows: alpha = 10**numpy.linspace(6,-6,100) \n",
    "so that you can generate 100 uniform values between -6 to 6 as power series.\n",
    "\n",
    "Fit the 2 regression models with scaled data and report the best chosen **α** based on cross validation as well as the corresponding scoring metric. The cross validation should happen on your training data using **MSE** as the scoring metric.\n",
    "\n",
    "3)(**5 pts**) Run ridge and lasso regression for all of the **α** specified above (on training data), and plot the coefficients learned for each of them - there should be one plot each for lasso and ridge, so a total of two plots; different features' weights of each model should be on the same plot with different colors (3pts). \n",
    "\n",
    "What do you qualitatively observe when the value of the regularization parameter changes (2pts)? \n",
    "\n",
    "4)(**3 pts**) Take the exponential of Y_train as the target, and fit the 2 regression models again. Report the best chosen **α** based on cross validation as well as the corresponding scoring metric. Compare the results of using the original target with the results of using the exponential of the target. What do you observe? \n",
    "\n",
    "5)(**5 pts**) Similarly, use [sklearn.linear_model.ElasticNet](https://scikit-learn.org/stable/modules/generated/sklearn.linear_model.ElasticNet.html) to do linear regression with different **α** values, and plot the coefficients learned for each of them (2pts). Observe the plot, then explain the pros and cons of ridge, lasso and Elastic Net models (3pts).\n",
    "\n",
    "\n",
    "6)(**5 pts**) Run the following three regression models with **MSE** loss on the training data: \n",
    "\n",
    "a. linear regression without regularization (1pts)\n",
    "\n",
    "b. linear regression with ridge regularization (2pts)\n",
    "\n",
    "c. linear regression with lasso regularization (2pts)\n",
    "\n",
    "For part (b) and (c), use only the best regularization parameters. Report the MSE and R<sup>2</sup> on the test data for each model.\n",
    "\n",
    "7)(**5 pts**) Train the 3 models and report the metrics with the original data without scaling (3pts). \n",
    "\n",
    "Why do we need to scale the data before regularization (2pts)? \n",
    "\n",
    "## Answer:\n"
   ]
  },
  {
   "cell_type": "markdown",
   "metadata": {},
   "source": [
    "### 4.1"
   ]
  },
  {
   "cell_type": "code",
   "execution_count": 8,
   "metadata": {},
   "outputs": [
    {
     "data": {
      "text/plain": [
       "array([[ 1.52725374,  2.0917706 ,  1.61594354,  0.63150829,  1.72829095,\n",
       "         2.11370277,  0.90453403],\n",
       "       [ 0.74180896,  0.46308859, -0.9310778 , -0.35266047, -1.04140609,\n",
       "         0.29488827,  0.90453403],\n",
       "       [ 0.56726568,  0.13735218,  1.61594354,  0.63150829,  0.62041214,\n",
       "         0.26211684,  0.90453403],\n",
       "       [-0.39272239, -0.51412062, -0.08207069,  0.13942391,  0.62041214,\n",
       "        -0.80295471, -1.1055416 ],\n",
       "       [ 0.47999403,  0.78882499,  0.76693642,  1.12359267,  1.17435154,\n",
       "         1.11417408,  0.90453403]])"
      ]
     },
     "execution_count": 8,
     "metadata": {},
     "output_type": "execute_result"
    }
   ],
   "source": [
    "from sklearn.model_selection import train_test_split\n",
    "from sklearn.preprocessing import StandardScaler\n",
    "\n",
    "scalar = StandardScaler()\n",
    "\n",
    "train_X, test_X, train_y, test_y = train_test_split(X, y, \n",
    "                                                    train_size=.75,\n",
    "                                                    random_state=50)\n",
    "\n",
    "scaled_train_X = scalar.fit_transform(train_X)\n",
    "scaled_test_X = scalar.fit_transform(test_X)\n",
    "\n",
    "scaled_train_X[:5,:]"
   ]
  },
  {
   "cell_type": "markdown",
   "metadata": {},
   "source": [
    "### 4.2"
   ]
  },
  {
   "cell_type": "code",
   "execution_count": 84,
   "metadata": {},
   "outputs": [
    {
     "name": "stdout",
     "output_type": "stream",
     "text": [
      "Lasso acheived lowest MSE of  0.004098425318055381  for  0.001072267222010321  alpha\n",
      "Ridge acheived lowest MSE of  0.00411801388424071  for  4.641588833612772  alpha\n"
     ]
    }
   ],
   "source": [
    "from sklearn.linear_model import Lasso, Ridge\n",
    "from sklearn.model_selection import cross_val_score\n",
    "from sklearn.metrics import make_scorer, mean_squared_error\n",
    "import matplotlib.pyplot as plt\n",
    "\n",
    "%matplotlib inline\n",
    "\n",
    "scorer = make_scorer(mean_squared_error)\n",
    "\n",
    "alphas = 10**np.linspace(6,-6,100)\n",
    "best_accruacy_lasso = np.inf\n",
    "best_alpha_lasso = None\n",
    "best_accruacy_ridge = np.inf\n",
    "best_alpha_ridge = None\n",
    "\n",
    "for a in alphas:\n",
    "    lasso = Lasso(alpha = a)\n",
    "    scores = cross_val_score(lasso, scaled_train_X, train_y, cv = 5, scoring = scorer)\n",
    "    if(np.mean(scores) < best_accruacy_lasso):\n",
    "        best_accruacy_lasso = np.mean(scores)\n",
    "        best_alpha_lasso = a\n",
    "    \n",
    "    ridge = Ridge(alpha = a)\n",
    "    scores = cross_val_score(ridge, scaled_train_X, train_y, cv = 5, scoring = scorer)\n",
    "    if(np.mean(scores) < best_accruacy_ridge):\n",
    "        best_accruacy_ridge = np.mean(scores)\n",
    "        best_alpha_ridge = a\n",
    "    \n",
    "print(\"Lasso acheived lowest MSE of \", best_accruacy_lasso, \" for \", best_alpha_lasso, \" alpha\")\n",
    "print(\"Ridge acheived lowest MSE of \", best_accruacy_ridge, \" for \", best_alpha_ridge, \" alpha\")"
   ]
  },
  {
   "cell_type": "markdown",
   "metadata": {},
   "source": [
    "### 4.3"
   ]
  },
  {
   "cell_type": "code",
   "execution_count": 79,
   "metadata": {},
   "outputs": [
    {
     "data": {
      "image/png": "[encoded data removed]",
      "text/plain": [
       "<Figure size 720x288 with 2 Axes>"
      ]
     },
     "metadata": {
      "needs_background": "light"
     },
     "output_type": "display_data"
    }
   ],
   "source": [
    "colors = ['black', 'red', 'green', 'blue', 'cyan', 'yellow', 'orange']\n",
    "\n",
    "lasso = Lasso(alpha = best_alpha_lasso)\n",
    "lasso.fit(scaled_train_X, train_y)\n",
    "\n",
    "ridge = Ridge(alpha = best_alpha_ridge)\n",
    "ridge.fit(scaled_train_X, train_y)\n",
    "\n",
    "plt.subplots(figsize=(10, 4), sharey= True)\n",
    "plt.subplot(121)\n",
    "plt.bar(list(train_X.columns), lasso.coef_, color=colors)\n",
    "plt.ylim([0, 0.08])\n",
    "plt.xticks(rotation=90)\n",
    "plt.title(\"Lasso with alpha \" + str(round(best_alpha_lasso, 3)))\n",
    "plt.subplot(122)\n",
    "plt.bar(list(train_X.columns), ridge.coef_, color=colors)\n",
    "plt.ylim([0, 0.08])\n",
    "plt.xticks(rotation=90)\n",
    "plt.title(\"Ridge with alpha \" + str(round(best_alpha_ridge, 3)))\n",
    "plt.show()"
   ]
  },
  {
   "cell_type": "markdown",
   "metadata": {},
   "source": [
    "As the regularization parameter is increased or the shirkage factor is increased, the value of coefficents usually go down. \n",
    "Clearly from the plot, coefficent of of CGPA went down as we moved from 0.001 alpha to 4.462 alpha "
   ]
  },
  {
   "cell_type": "markdown",
   "metadata": {},
   "source": [
    "### 4.4"
   ]
  },
  {
   "cell_type": "code",
   "execution_count": 94,
   "metadata": {},
   "outputs": [
    {
     "name": "stdout",
     "output_type": "stream",
     "text": [
      "Lasso with modified target\n",
      "Lowest MSE =  0.01476731964422993\n",
      "alpha =  0.0018738174228603867\n",
      "\n",
      "Lasso original\n",
      "Lowest MSE =  1.004106835348468 (= exp(MSE) exp taken to bring original and modified in same scale)\n",
      "alpha =  0.001072267222010321\n",
      "--------------------------\n",
      "\n",
      "Ridge with modified target\n",
      "Lowest MSE =  0.014815008775351055\n",
      "alpha =  6.135907273413176\n",
      "\n",
      "Ridge original\n",
      "Lowest MSE =  1.0041265045543144 (= exp(MSE) exp taken to bring original and modified in same scale)\n",
      "alpha =  4.641588833612772\n"
     ]
    }
   ],
   "source": [
    "import math\n",
    "\n",
    "exp_y = np.exp(train_y)\n",
    "\n",
    "alphas = 10**np.linspace(6,-6,100)\n",
    "new_best_accruacy_lasso = np.inf\n",
    "new_best_alpha_lasso = None\n",
    "new_best_accruacy_ridge = np.inf\n",
    "new_best_alpha_ridge = None\n",
    "\n",
    "for a in alphas:\n",
    "    lasso = Lasso(alpha = a)\n",
    "    scores = cross_val_score(lasso, scaled_train_X, exp_y, cv = 5, scoring = scorer)\n",
    "    if(np.mean(scores) < new_best_accruacy_lasso):\n",
    "        new_best_accruacy_lasso = np.mean(scores)\n",
    "        new_best_alpha_lasso = a\n",
    "    \n",
    "    ridge = Ridge(alpha = a)\n",
    "    scores = cross_val_score(ridge, scaled_train_X, exp_y, cv = 5, scoring = scorer)\n",
    "    if(np.mean(scores) < new_best_accruacy_ridge):\n",
    "        new_best_accruacy_ridge = np.mean(scores)\n",
    "        new_best_alpha_ridge = a\n",
    "    \n",
    "print(\"Lasso with modified target\")\n",
    "print(\"Lowest MSE = \", new_best_accruacy_lasso)\n",
    "print(\"alpha = \", new_best_alpha_lasso)\n",
    "\n",
    "print(\"\\nLasso original\")\n",
    "print(\"Lowest MSE = \", math.exp(best_accruacy_lasso), \n",
    "      \"(= exp(MSE) exp taken to bring original and modified in same scale)\")\n",
    "print(\"alpha = \", best_alpha_lasso)\n",
    "\n",
    "\n",
    "print('--------------------------')\n",
    "print(\"\\nRidge with modified target\")\n",
    "print(\"Lowest MSE = \", new_best_accruacy_ridge)\n",
    "print(\"alpha = \", new_best_alpha_ridge)\n",
    "\n",
    "print(\"\\nRidge original\")\n",
    "print(\"Lowest MSE = \", math.exp(best_accruacy_ridge), \n",
    "      \"(= exp(MSE) exp taken to bring original and modified in same scale)\")\n",
    "print(\"alpha = \", best_alpha_ridge)"
   ]
  },
  {
   "cell_type": "markdown",
   "metadata": {},
   "source": [
    "Taking the exponential of target has helped in reducing the Mean Square Error. In other words, the predictability of the model imporved by modifying the target variable."
   ]
  },
  {
   "cell_type": "markdown",
   "metadata": {},
   "source": [
    "### 4.5"
   ]
  },
  {
   "cell_type": "code",
   "execution_count": 104,
   "metadata": {},
   "outputs": [
    {
     "data": {
      "image/png": "[encoded data removed]",
      "text/plain": [
       "<Figure size 1080x288 with 3 Axes>"
      ]
     },
     "metadata": {
      "needs_background": "light"
     },
     "output_type": "display_data"
    }
   ],
   "source": [
    "from sklearn.linear_model import ElasticNet\n",
    "\n",
    "colors = ['black', 'red', 'green', 'blue', 'cyan', 'yellow', 'orange']\n",
    "\n",
    "elastic_net1 = ElasticNet(alpha = 0.001)\n",
    "elastic_net1.fit(scaled_train_X, train_y)\n",
    "\n",
    "elastic_net2 = ElasticNet(alpha = 0.01)\n",
    "elastic_net2.fit(scaled_train_X, train_y)\n",
    "\n",
    "elastic_net3 = ElasticNet(alpha = 0.1)\n",
    "elastic_net3.fit(scaled_train_X, train_y)\n",
    "\n",
    "plt.subplots(figsize=(15, 4), sharey= True)\n",
    "plt.subplot(131)\n",
    "plt.bar(list(train_X.columns), elastic_net1.coef_, color=colors)\n",
    "plt.ylim([0, 0.08])\n",
    "plt.xticks(rotation=90)\n",
    "plt.title(\"Elastic Net with alpha 0.001\")\n",
    "plt.subplot(132)\n",
    "plt.bar(list(train_X.columns), elastic_net2.coef_, color=colors)\n",
    "plt.ylim([0, 0.08])\n",
    "plt.xticks(rotation=90)\n",
    "plt.title(\"Elastic Net with alpha 0.01\")\n",
    "plt.subplot(133)\n",
    "plt.bar(list(train_X.columns), elastic_net3.coef_, color=colors)\n",
    "plt.ylim([0, 0.08])\n",
    "plt.xticks(rotation=90)\n",
    "plt.title(\"Elastic Net with alpha 0.1\")\n",
    "plt.show()"
   ]
  },
  {
   "cell_type": "markdown",
   "metadata": {},
   "source": [
    "As alpha increases, the value of coefficents decreases"
   ]
  },
  {
   "cell_type": "markdown",
   "metadata": {},
   "source": [
    "All three methods(Lasso, Ridge, and Elastic Net), help in regularizing the Linear Regression. The regularization method is similar for all three methods.\n",
    "\n",
    "**Lasso Regression**<br>\n",
    "Pros - Becasue of cost function in lasso some coefficents are shrunk to zero. This reduces the number of coefficents in Linear Regression. Thus, Regresssion model created through Lasso is usually easier to interpret.<br>\n",
    "Cons - The cost function of Lasso is such that test accuracy is not usually as high as Ridge regression. (This is because some variables are completely removed from the model) Some training accuracy is scarifised in Lasso in lieu of interpretability.<br>\n",
    "<br>\n",
    "**Ridge Regression**<br>\n",
    "Pros - Becasue of cost function in ridge some coefficents tend towards zero. The regularization helps in achieving high test accuracy<br>\n",
    "Cons - Becasue the number of variables usually remain almost same, the interpretability of Ridge Regression is usually lower than Lasso Regression<br>\n",
    "<br>\n",
    "**Elastic Net Regression**<br>\n",
    "Pros - The cost function of elastic net is combination of Lasso and Ridge Regression. Elastic Net is midway between Ridge and Lasso. Elastic Net is not as agressive as Lasso in eliminating the variables.<br>\n",
    "Cons - Computation cost of Lasso is higher than Ridge and Lasso Regression.<br>"
   ]
  },
  {
   "cell_type": "markdown",
   "metadata": {},
   "source": [
    "### 4.6"
   ]
  },
  {
   "cell_type": "code",
   "execution_count": 120,
   "metadata": {},
   "outputs": [
    {
     "name": "stdout",
     "output_type": "stream",
     "text": [
      "Train set accuracy\n",
      "MSE with Linear Regresssion with no regularisation =  0.0038570690453814307\n",
      "MSE with Lasso (alpha =  0.001072267222010321 ) =  0.0038588899424586032\n",
      "MSE with Ridge (alpha =  4.641588833612772 ) =  0.0038611057409614303\n"
     ]
    }
   ],
   "source": [
    "from sklearn.linear_model import LinearRegression\n",
    "\n",
    "linear_model_without_reg = LinearRegression()\n",
    "lasso = Lasso(alpha= best_alpha_lasso)\n",
    "ridge = Ridge(alpha= best_alpha_ridge)\n",
    "\n",
    "print('Train set accuracy')\n",
    "\n",
    "linear_model_without_reg.fit(scaled_train_X, train_y)\n",
    "mse = mean_squared_error(train_y, \n",
    "                         linear_model_without_reg.predict(scaled_train_X))\n",
    "print(\"MSE with Linear Regresssion with no regularisation = \", mse)\n",
    "\n",
    "lasso.fit(scaled_train_X, train_y)\n",
    "mse = mean_squared_error(train_y, \n",
    "                         lasso.predict(scaled_train_X))\n",
    "print(\"MSE with Lasso (alpha = \", best_alpha_lasso, \") = \", mse)\n",
    "\n",
    "ridge.fit(scaled_train_X, train_y)\n",
    "mse = mean_squared_error(train_y, \n",
    "                         ridge.predict(scaled_train_X))\n",
    "print(\"MSE with Ridge (alpha = \", best_alpha_ridge, \") = \", mse)"
   ]
  },
  {
   "cell_type": "code",
   "execution_count": 122,
   "metadata": {},
   "outputs": [
    {
     "name": "stdout",
     "output_type": "stream",
     "text": [
      "Test set accuracy\n",
      "MSE with Linear Regresssion with no regularisation =  0.005200215496311306\n",
      "R2 with Linear Regresssion with no regularisation =  0.6910288907914794\n",
      "MSE with Lasso (alpha =  0.001072267222010321 ) =  0.005169728551461911\n",
      "R2 with Lasso (alpha =  0.001072267222010321 ) =  0.6928402744107118\n",
      "MSE with Lasso (alpha =  4.641588833612772 ) =  0.0051457349267028775\n",
      "R2 with Lasso (alpha =  4.641588833612772 ) =  0.6942658570353146\n"
     ]
    }
   ],
   "source": [
    "print(\"Test set accuracy\")\n",
    "\n",
    "mse = mean_squared_error(test_y, \n",
    "                         linear_model_without_reg.predict(scaled_test_X))\n",
    "print(\"MSE with Linear Regresssion with no regularisation = \", mse)\n",
    "print(\"R2 with Linear Regresssion with no regularisation = \", linear_model_without_reg.score(scaled_test_X, test_y))\n",
    "\n",
    "mse = mean_squared_error(test_y, \n",
    "                         lasso.predict(scaled_test_X))\n",
    "print(\"MSE with Lasso (alpha = \", best_alpha_lasso, \") = \", mse)\n",
    "print(\"R2 with Lasso (alpha = \", best_alpha_lasso, \") = \", lasso.score(scaled_test_X, test_y))\n",
    "\n",
    "mse = mean_squared_error(test_y, \n",
    "                         ridge.predict(scaled_test_X))\n",
    "print(\"MSE with Ridge (alpha = \", best_alpha_ridge, \") = \", mse)\n",
    "print(\"R2 with Ridge (alpha = \", best_alpha_ridge, \") = \", ridge.score(scaled_test_X, test_y))"
   ]
  },
  {
   "cell_type": "markdown",
   "metadata": {},
   "source": [
    "### 4.7"
   ]
  },
  {
   "cell_type": "code",
   "execution_count": 123,
   "metadata": {},
   "outputs": [
    {
     "name": "stdout",
     "output_type": "stream",
     "text": [
      "Train set accuracy\n",
      "MSE with Linear Regresssion with no regularisation =  0.0038570690453814302\n",
      "MSE with Lasso (alpha =  0.001072267222010321 ) =  0.0038732792224167277\n",
      "MSE with Ridge (alpha =  4.641588833612772 ) =  0.003890782794503721\n",
      "\n",
      "\n",
      "Test set accuracy\n",
      "MSE with Linear Regresssion with no regularisation =  0.004526319242200025\n",
      "R2 with Linear Regresssion with no regularisation =  0.7310684763186415\n",
      "MSE with Lasso (alpha =  0.001072267222010321 ) =  0.0045818225212272854\n",
      "R2 with Lasso (alpha =  0.001072267222010321 ) =  0.7277707457346057\n",
      "MSE with Lasso (alpha =  4.641588833612772 ) =  4.706900265862788\n",
      "R2 with Lasso (alpha =  4.641588833612772 ) =  0.7314641213423744\n"
     ]
    }
   ],
   "source": [
    "linear_model_without_reg = LinearRegression()\n",
    "lasso = Lasso(alpha= best_alpha_lasso)\n",
    "ridge = Ridge(alpha= best_alpha_ridge)\n",
    "\n",
    "print('Train set accuracy')\n",
    "\n",
    "linear_model_without_reg.fit(train_X, train_y)\n",
    "mse = mean_squared_error(train_y, \n",
    "                         linear_model_without_reg.predict(train_X))\n",
    "print(\"MSE with Linear Regresssion with no regularisation = \", mse)\n",
    "\n",
    "lasso.fit(train_X, train_y)\n",
    "mse = mean_squared_error(train_y, \n",
    "                         lasso.predict(train_X))\n",
    "print(\"MSE with Lasso (alpha = \", best_alpha_lasso, \") = \", mse)\n",
    "\n",
    "ridge.fit(train_X, train_y)\n",
    "mse = mean_squared_error(train_y, \n",
    "                         ridge.predict(train_X))\n",
    "print(\"MSE with Ridge (alpha = \", best_alpha_ridge, \") = \", mse)\n",
    "\n",
    "print(\"\\n\\nTest set accuracy\")\n",
    "\n",
    "mse = mean_squared_error(test_y, \n",
    "                         linear_model_without_reg.predict(test_X))\n",
    "print(\"MSE with Linear Regresssion with no regularisation = \", mse)\n",
    "print(\"R2 with Linear Regresssion with no regularisation = \", linear_model_without_reg.score(test_X, test_y))\n",
    "\n",
    "mse = mean_squared_error(test_y, \n",
    "                         lasso.predict(test_X))\n",
    "print(\"MSE with Lasso (alpha = \", best_alpha_lasso, \") = \", mse)\n",
    "print(\"R2 with Lasso (alpha = \", best_alpha_lasso, \") = \", lasso.score(test_X, test_y))\n",
    "\n",
    "mse = mean_squared_error(test_y, \n",
    "                         ridge.predict(scaled_test_X))\n",
    "print(\"MSE with Ridge (alpha = \", best_alpha_ridge, \") = \", mse)\n",
    "print(\"R2 with Ridge (alpha = \", best_alpha_ridge, \") = \", ridge.score(test_X, test_y))"
   ]
  },
  {
   "cell_type": "markdown",
   "metadata": {},
   "source": [
    "Scaling has following advantages:<br>\n",
    "1. **Improves fit of the model** - No one variable should dominate over the variables just because of scale. For e.g. - if CGPA variable's scale is changed from 1-10 to percentage 1-100. This kind of abritary change to scale of one variable can lead to different the linear model and can lead to CGPA dominating over other variables. Such inconsistensies can lead to poor fit and thus low test score. \n",
    "2. **Better interpretation of importance of each variable in the model** - If all the variables have been scaled, looking at the absolute coefficients of all variables, we can easily comment which variable is most important for making the prediction. If the variables are not scaled, then coefficents of all variables will depend on feature's important and it's scale. Thus, looking at coeffiecnts of one variable, it will not be clear if the coefficent is large due to scale or it's importance."
   ]
  }
 ],
 "metadata": {
  "colab": {
   "collapsed_sections": [],
   "name": "MIS 382N - HW1.ipynb",
   "provenance": []
  },
  "kernelspec": {
   "display_name": "Python 3",
   "language": "python",
   "name": "python3"
  },
  "language_info": {
   "codemirror_mode": {
    "name": "ipython",
    "version": 3
   },
   "file_extension": ".py",
   "mimetype": "text/x-python",
   "name": "python",
   "nbconvert_exporter": "python",
   "pygments_lexer": "ipython3",
   "version": "3.8.8"
  },
  "toc": {
   "base_numbering": 1,
   "nav_menu": {},
   "number_sections": true,
   "sideBar": true,
   "skip_h1_title": false,
   "title_cell": "Table of Contents",
   "title_sidebar": "Contents",
   "toc_cell": false,
   "toc_position": {},
   "toc_section_display": true,
   "toc_window_display": false
  },
  "varInspector": {
   "cols": {
    "lenName": 16,
    "lenType": 16,
    "lenVar": 40
   },
   "kernels_config": {
    "python": {
     "delete_cmd_postfix": "",
     "delete_cmd_prefix": "del ",
     "library": "var_list.py",
     "varRefreshCmd": "print(var_dic_list())"
    },
    "r": {
     "delete_cmd_postfix": ") ",
     "delete_cmd_prefix": "rm(",
     "library": "var_list.r",
     "varRefreshCmd": "cat(var_dic_list()) "
    }
   },
   "types_to_exclude": [
    "module",
    "function",
    "builtin_function_or_method",
    "instance",
    "_Feature"
   ],
   "window_display": false
  }
 },
 "nbformat": 4,
 "nbformat_minor": 1
}
